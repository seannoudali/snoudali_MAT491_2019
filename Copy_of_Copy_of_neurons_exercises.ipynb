{
  "nbformat": 4,
  "nbformat_minor": 0,
  "metadata": {
    "colab": {
      "name": "Copy of Copy of neurons-exercises.ipynb",
      "version": "0.3.2",
      "provenance": [],
      "include_colab_link": true
    },
    "kernelspec": {
      "display_name": "Python 3",
      "language": "python",
      "name": "python3"
    }
  },
  "cells": [
    {
      "cell_type": "markdown",
      "metadata": {
        "id": "view-in-github",
        "colab_type": "text"
      },
      "source": [
        "<a href=\"https://colab.research.google.com/github/seannoudali/snoudali_MAT491_2019/blob/master/Copy_of_Copy_of_neurons_exercises.ipynb\" target=\"_parent\"><img src=\"https://colab.research.google.com/assets/colab-badge.svg\" alt=\"Open In Colab\"/></a>"
      ]
    },
    {
      "metadata": {
        "id": "sjtG06IwmxXX",
        "colab_type": "text"
      },
      "cell_type": "markdown",
      "source": [
        "# Neuron Physiology Data Analysis Exercises"
      ]
    },
    {
      "metadata": {
        "id": "1U_DQQJfmxXk",
        "colab_type": "text"
      },
      "cell_type": "markdown",
      "source": [
        "### - Replace the \"...\" with code and/or values to complete each problem\n",
        "### - Always execute cells from top to bottom!"
      ]
    },
    {
      "metadata": {
        "id": "XbhJWjj3mxXq",
        "colab_type": "code",
        "colab": {}
      },
      "cell_type": "code",
      "source": [
        "# Our preamble\n",
        "# Always plot in the notebook\n",
        "%matplotlib inline\n",
        "# Load the plotting library\n",
        "import matplotlib.pyplot as plt\n",
        "# Load the math library\n",
        "import numpy as np\n",
        "# Load more science stuff\n",
        "import scipy\n",
        "import scipy.constants as constants\n",
        "# Load pandas to make and manipulated data frames\n",
        "import pandas as pd\n",
        "# Load a library for nicer-looking grpahics\n",
        "import seaborn as sns\n",
        "# Nice big fonts\n",
        "sns.set(font_scale=1.5)\n",
        "# Load a library to turn warnings on and off\n",
        "import warnings\n",
        "# Turn off distracting warning messages that you don't need to see and will confuse you\n",
        "warnings.filterwarnings(\"ignore\")"
      ],
      "execution_count": 0,
      "outputs": []
    },
    {
      "metadata": {
        "id": "hBhpf8KVmxX9",
        "colab_type": "code",
        "outputId": "32f787ce-66a3-4ef3-bc8b-9fc26630f4b9",
        "colab": {
          "base_uri": "https://localhost:8080/",
          "height": 34
        }
      },
      "cell_type": "code",
      "source": [
        "# Install some packages that you will need\n",
        "!pip install quantities\n",
        "# Install the quantities package for keeping track of units and dimensional analysis\n",
        "import quantities as pq"
      ],
      "execution_count": 0,
      "outputs": [
        {
          "output_type": "stream",
          "text": [
            "Requirement already satisfied: quantities in /usr/local/lib/python3.6/dist-packages (0.12.2)\n"
          ],
          "name": "stdout"
        }
      ]
    },
    {
      "metadata": {
        "id": "ll5uYzvTmxYL",
        "colab_type": "text"
      },
      "cell_type": "markdown",
      "source": [
        "<hr>"
      ]
    },
    {
      "metadata": {
        "id": "hDaLwg3tmxYQ",
        "colab_type": "text"
      },
      "cell_type": "markdown",
      "source": [
        "## 1) "
      ]
    },
    {
      "metadata": {
        "id": "YZTPld2QmxYU",
        "colab_type": "text"
      },
      "cell_type": "markdown",
      "source": [
        "![ghk](https://raw.githubusercontent.com/rgerkin/neuro-data-analysis-course/master/images/ghk.jpg) "
      ]
    },
    {
      "metadata": {
        "id": "3IeMQajOmxYa",
        "colab_type": "text"
      },
      "cell_type": "markdown",
      "source": [
        "#### The voltage difference between the inside and oustide of the cell, the so-called \"membrane potential\", is driven by differences in ion concentrations and differences in the permeability of the membrane to those ions.  It is described by the Goldman-Hodgkin-Katz (GHK) equation:\n",
        "\n",
        "#### $$ v = \\frac{RT}{F}ln\\frac{\\sum_i{p_ic_{i[out]}}}{\\sum_i{p_ic_{i[in]}}}$$ \n",
        "\n",
        "#### where $v$ is the membrane potential, $R$ is the ideal gas constant, $T$ is the temperature in Kelvin, $F$ is Faraday's constant, $P_i$ is the membrane permeability of ion $i$ (a reflect of how many ion channels are open for it to travel through), $c_{i[in]}$ is (usually) the concentration of ion $i$ inside the cell, and $c_{i[out]}$ is the (usually) concentration of ion $i$ outside the cell.  But when ions have negative charge (e.g. $Cl^-$), \"in\" and \"out\" get swapped, because the ion (negative) and the current (positive, by convention) flow in opposite directions.  "
      ]
    },
    {
      "metadata": {
        "id": "tvpGy8gnmxYf",
        "colab_type": "text"
      },
      "cell_type": "markdown",
      "source": [
        "#### Use the GHK equation to determinethe membrane potential at 310 degrees Kelvin (37 degrees Celsius, i.e. human body temperature) for the figure above, assuming that $P_{Na} = 0.05$, $P_K = 1$ , and $P_{Cl} = 0.45$"
      ]
    },
    {
      "metadata": {
        "id": "7yY7p1FSmxYi",
        "colab_type": "text"
      },
      "cell_type": "markdown",
      "source": [
        "#### 1a)"
      ]
    },
    {
      "metadata": {
        "id": "DQAqHRDomxYp",
        "colab_type": "code",
        "colab": {}
      },
      "cell_type": "code",
      "source": [
        "# Change this to the correct temperature in Kelvin, but keep the attached units\n",
        "T = 310 * pq.K\n",
        "\n",
        "# These already have the correct values\n",
        "R  = constants.R * pq.J / (pq.mol * pq.K)\n",
        "F = constants.physical_constants['Faraday constant'][0] * pq.C / pq.mol\n",
        "\n",
        "# These permeabilties have the \"correct\" values above\n",
        "P = np.array([0.05, 1, .45]) / pq.mM # Permeabilities \n",
        "\n",
        "# Put the correct intracellular values in from the figure above (Na, K, Ca).  \n",
        "C_in = np.array([10, 148, 103]) * pq.mM\n",
        "\n",
        "# Put the correct extracellular values in from the figure above.  \n",
        "C_out = np.array([142, 5, 4]) * pq.mM"
      ],
      "execution_count": 0,
      "outputs": []
    },
    {
      "metadata": {
        "id": "mhINOfWvmxY0",
        "colab_type": "text"
      },
      "cell_type": "markdown",
      "source": [
        "#### 1b)"
      ]
    },
    {
      "metadata": {
        "id": "IkDTa3Q0mxY7",
        "colab_type": "code",
        "outputId": "b4609732-056c-4e54-ba67-2b097c8eba31",
        "colab": {
          "base_uri": "https://localhost:8080/",
          "height": 34
        }
      },
      "cell_type": "code",
      "source": [
        "# A sum of products can be implemented as a product of arrays in Python.  \n",
        "# For example:  \n",
        "x = np.array([1, 2, 3])\n",
        "y = np.array([4, 5, 6])\n",
        "np.sum(x*y) # This will add 1*4, 2*5, and 3*6\n",
        "\n",
        "# Use this technique to create the numerator and denominator of the term inside the `ln` in the GHK equation:  \n",
        "n = np.sum([P*C_out]) # This is the sum of P*C_out for each ion \n",
        "d = np.sum([P*C_in]) # This is the sum of P*C_in for each ion\n",
        "\n",
        "\n",
        "# Finally, we compute the membrane potential v from all of these pieces.  Note that `log` is the natural logarithm (ln) in Python.  \n",
        "V = (R*T/F) * np.log(n/d)\n",
        "\n",
        "# Print the result (units will look weird, don't worry)\n",
        "V "
      ],
      "execution_count": 0,
      "outputs": [
        {
          "output_type": "execute_result",
          "data": {
            "text/plain": [
              "array(-0.07053335) * J/C"
            ]
          },
          "metadata": {
            "tags": []
          },
          "execution_count": 13
        }
      ]
    },
    {
      "metadata": {
        "id": "J648-ZzSmxZF",
        "colab_type": "text"
      },
      "cell_type": "markdown",
      "source": [
        "#### 1c) These units look strange, but maybe they are equivalent to voltage, in the same way that \"furlongs per fortnight\" is equivalent to speed. If so, we can \"rescale\" to our desired units of $mV$ (hint: it should be near $-70 mV$):"
      ]
    },
    {
      "metadata": {
        "id": "bzmNR5CSmxZJ",
        "colab_type": "code",
        "outputId": "144de7de-c87c-4d95-9ad3-df3b09d47715",
        "colab": {
          "base_uri": "https://localhost:8080/",
          "height": 34
        }
      },
      "cell_type": "code",
      "source": [
        "V.rescale(\"mV\")"
      ],
      "execution_count": 0,
      "outputs": [
        {
          "output_type": "execute_result",
          "data": {
            "text/plain": [
              "array(-70.53334545) * mV"
            ]
          },
          "metadata": {
            "tags": []
          },
          "execution_count": 22
        }
      ]
    },
    {
      "metadata": {
        "id": "SSzr-1yzmxZW",
        "colab_type": "text"
      },
      "cell_type": "markdown",
      "source": [
        "#### 1d) And print the result to 3 significant digits:"
      ]
    },
    {
      "metadata": {
        "id": "2ze0lxy1mxZa",
        "colab_type": "code",
        "outputId": "8412ca3c-480a-4407-a943-26587386fed2",
        "colab": {
          "base_uri": "https://localhost:8080/",
          "height": 34
        }
      },
      "cell_type": "code",
      "source": [
        "print(\"The membrane potential is %.3g mV.\" % V.rescale(\"mV\"))"
      ],
      "execution_count": 0,
      "outputs": [
        {
          "output_type": "stream",
          "text": [
            "The membrane potential is -70.5 mV.\n"
          ],
          "name": "stdout"
        }
      ]
    },
    {
      "metadata": {
        "id": "ZxwCJdeamxZl",
        "colab_type": "text"
      },
      "cell_type": "markdown",
      "source": [
        "#### 1e) The proud owner of this neuron ate too many bananas, and all of his potassium regulatory mechanisms aren't working.  His extracellular potassium shot up by an additional 10 mM.  What happens to the resting potential of this neuron?  Will this make this cell more or less active?"
      ]
    },
    {
      "metadata": {
        "id": "HDN_tiC9mxZn",
        "colab_type": "code",
        "outputId": "51236a34-c60d-4833-9726-f7127a425f0b",
        "colab": {
          "base_uri": "https://localhost:8080/",
          "height": 51
        }
      },
      "cell_type": "code",
      "source": [
        "# Put the correct extracellular values in from the figure above.  \n",
        "C_out = np.array([142, 15, 4]) * pq.mM\n",
        "numerator = np.sum([P*C_out]) # This is the sum of P*C_out for each ion \n",
        "V = (R*T/F) * np.log(numerator/d)\n",
        "print(\"The membrane potential is %.3g mV.\" % V.rescale(\"mV\"))\n",
        "print(\"This will make the cell more active\")"
      ],
      "execution_count": 0,
      "outputs": [
        {
          "output_type": "stream",
          "text": [
            "The membrane potential is -56.1 mV.\n",
            "This will make the cell more active\n"
          ],
          "name": "stdout"
        }
      ]
    },
    {
      "metadata": {
        "id": "NuWeVuG4mxZu",
        "colab_type": "text"
      },
      "cell_type": "markdown",
      "source": [
        "<hr>"
      ]
    },
    {
      "metadata": {
        "id": "EVG8I9CnmxZx",
        "colab_type": "text"
      },
      "cell_type": "markdown",
      "source": [
        "## 2)  "
      ]
    },
    {
      "metadata": {
        "id": "kMj5U1n0mxZy",
        "colab_type": "text"
      },
      "cell_type": "markdown",
      "source": [
        "![threshold](https://slideplayer.com/slide/4667714/15/images/6/Action+potential.jpg)"
      ]
    },
    {
      "metadata": {
        "id": "doTonaEzmxZ1",
        "colab_type": "text"
      },
      "cell_type": "markdown",
      "source": [
        "#### Neurons initiate action potentials as a result of positive feedback: first, sodium enters the cell, raising the membrane potential; then, voltage-dependent sodium channels open in response to this change, and let even more sodium in.  The \"point of no return\" for this process is called the neuron's ***threshold***, and occurs when this positive feedback will continue even in the absence of any additional input to the cell, causing an action potential.  "
      ]
    },
    {
      "metadata": {
        "id": "HmZfZPIxmxZ3",
        "colab_type": "code",
        "outputId": "324a10c9-d337-4f28-fab6-021f29b4d309",
        "colab": {
          "base_uri": "https://localhost:8080/",
          "height": 234
        }
      },
      "cell_type": "code",
      "source": [
        "# Load data form the Allen Institute, saved from the previous lecture\n",
        "url = \"https://raw.githubusercontent.com/rgerkin/neuro-data-analysis-course/master/data/sample_trace.csv\"\n",
        "df = pd.read_csv(url, index_col=0) # index_col=0 means that the first column (time) should be the index\n",
        "\n",
        "# Plot the cell's response (from the data frame column 'response') to the stimulus (not shown, but in column 'stimulus'), on a 12x3 canvas\n",
        "df.plot(y='response', figsize=(12,3));\n",
        "\n",
        "# Zoom the x-axis in to the interesting part, starting just before and ending just after the stimulus.  Label the axes.\n",
        "plt.xlim(0.9, 2.1);\n",
        "plt.xlabel('Time (s)')\n",
        "plt.ylabel('Membrane\\nPotential (mV)');"
      ],
      "execution_count": 0,
      "outputs": [
        {
          "output_type": "display_data",
          "data": {
            "image/png": "[encoded data removed]",
            "text/plain": [
              "<Figure size 864x216 with 1 Axes>"
            ]
          },
          "metadata": {
            "tags": []
          }
        }
      ]
    },
    {
      "metadata": {
        "id": "HaUIjU8ymxZ-",
        "colab_type": "text"
      },
      "cell_type": "markdown",
      "source": [
        "#### 2a) How many action potentials (spikes) occurred in response to this stimulus?  Hint: use the example from the most recent lecture if you don't know how to count the number of elements in an array"
      ]
    },
    {
      "metadata": {
        "id": "hlw1ve24mxaA",
        "colab_type": "code",
        "outputId": "3b823117-5ba3-4e7d-f90c-f0cc09561d18",
        "colab": {
          "base_uri": "https://localhost:8080/",
          "height": 34
        }
      },
      "cell_type": "code",
      "source": [
        "# Import the function for peak finding.\n",
        "from scipy.signal import find_peaks\n",
        "\n",
        "# Find the peak locations and heights, for peaks that go above 0\n",
        "spike_times, spike_amplitudes = find_peaks(df['response'], height=0)\n",
        "\n",
        "\n",
        "# Write a print statement (as in question #1) that says how many spikes there were.\n",
        "# Hint: %d will print a value as an integer. \n",
        "print(\"There are %d spikes in this sweep\" % len(spike_times))"
      ],
      "execution_count": 0,
      "outputs": [
        {
          "output_type": "stream",
          "text": [
            "There are 49 spikes in this sweep\n"
          ],
          "name": "stdout"
        }
      ]
    },
    {
      "metadata": {
        "id": "VZnvhyn5mxaF",
        "colab_type": "text"
      },
      "cell_type": "markdown",
      "source": [
        "#### There are many ways to define the threshold, but says that the threshold is when the slope of the membrane potential (the response shown above) suddenly becomes very positive.  "
      ]
    },
    {
      "metadata": {
        "id": "Ka8fgVkImxaF",
        "colab_type": "code",
        "colab": {}
      },
      "cell_type": "code",
      "source": [
        "# Plot the cell's response (from the data frame column 'response') to the stimulus (not shown, but in column 'stimulus'), on a 12x3 canvas\n",
        "df.plot(y='response', figsize=(12,3));\n",
        "\n",
        "# Zoom the x-axis in to the interesting part, starting just before and ending just after the stimulus\n",
        "plt.xlim(1.02, 1.05);\n",
        "plt.xlabel('Time (s)')\n",
        "plt.ylabel('Membrane\\nPotential (mV)');"
      ],
      "execution_count": 0,
      "outputs": []
    },
    {
      "metadata": {
        "id": "RGNC4hQdmxaK",
        "colab_type": "text"
      },
      "cell_type": "markdown",
      "source": [
        "#### See the event right at (or just before) t = 1.030 seconds?  That is a good example of a threshold (the slope suddenly became very positive). You may recall that the slope is equal to the first derivative (with respect to time).  "
      ]
    },
    {
      "metadata": {
        "id": "pO7FQDAfmxaM",
        "colab_type": "code",
        "colab": {}
      },
      "cell_type": "code",
      "source": [
        "# Compute the first difference (the difference between adjacent samples of the membrane potential)\n",
        "# This will be in units of \"mV\" (millivolts)\n",
        "dv = df['response'].diff() * pq.mV\n",
        "\n",
        "# Compute the time step (the difference in time from one sample to the next)\n",
        "# This value is the same for all adjacent time samples, so we can just pick the first two\n",
        "# This will be in units of \"s\" (seconds)\n",
        "dt = (df.index[1] - df.index[0]) * pq.s\n",
        "\n",
        "# Let's use \"ms\" (milliseconds) instead because it will be more graphically intuitive\n",
        "dt = dt.rescale('ms')\n",
        "\n",
        "# The first derivative with respect to time is dv/dt.  \n",
        "# Python doesn't allow us to put the \"/\" sign in a variable name, so we won't.  \n",
        "# This will have units of \"mV/ms\"\n",
        "dvdt = dv/dt\n",
        "\n",
        "dvdt.plot(figsize=(12,3))\n",
        "\n",
        "# Zoom the x-axis in to the interesting part, starting just before and ending just after the stimulus\n",
        "plt.xlim(1.02, 1.05);\n",
        "plt.xlabel('Time (s)')\n",
        "plt.ylabel('First derivative\\nof membrane\\npotential (mV/s)');\n",
        "\n",
        "# Add a red dotted line at dv/dt = 20 mV/ms\n",
        "plt.plot([0,2],[20,20],'--r');"
      ],
      "execution_count": 0,
      "outputs": []
    },
    {
      "metadata": {
        "id": "rqJx8BR1mxaQ",
        "colab_type": "text"
      },
      "cell_type": "markdown",
      "source": [
        "#### I've put a red line there to indicate when the slope (dv/dt, shown above) of the original trace (v, shown in the previous figure) gets significantly higher than the baseline. We can call the times when the dv/dt first exceeds this red line, for each spike, the spikes' thresholds.  "
      ]
    },
    {
      "metadata": {
        "id": "yLN1LT7smxaS",
        "colab_type": "text"
      },
      "cell_type": "markdown",
      "source": [
        "#### 2b) Extract all the values from the original dataframe when dv/dt exceeds the value shown in the red line (20 mV/ms)"
      ]
    },
    {
      "metadata": {
        "id": "yGoBsxkFmxaT",
        "colab_type": "code",
        "colab": {}
      },
      "cell_type": "code",
      "source": [
        "# You can add a column to any dataframe by just assigning to it with the equals sign.  \n",
        "# This will give you a new column containing the first derivative that we computed above.  \n",
        "df[...] = ...\n",
        "\n",
        "# Do you remember how we create a selector (with the double equals sign)?\n",
        "# You don't have use ==, as you can use >, <, >=, <= or any other comparison operation you can think of.\n",
        "is_slope_greater_than_threshold = (... > ...)\n",
        "\n",
        "# Now do the extraction:  \n",
        "places_where_slope_is_greater_than_threshold = ...\n",
        "\n",
        "# Show the first rew rows\n",
        "places_where_slope_is_greater_than_threshold.head()"
      ],
      "execution_count": 0,
      "outputs": []
    },
    {
      "metadata": {
        "id": "O9UUBHeCmxaX",
        "colab_type": "text"
      },
      "cell_type": "markdown",
      "source": [
        "#### 2c) What is the time point when the first spike (action potential) exceeds threshold?  Note that this will be the first time point in the entire response that exceeds threshold.  "
      ]
    },
    {
      "metadata": {
        "id": "e02ZkQRvmxaY",
        "colab_type": "code",
        "colab": {}
      },
      "cell_type": "code",
      "source": [
        "# You can access values from the index of a data frame with .index, \n",
        "# and then access entries from that index numerically (e.g. [7] for the 7th value)\n",
        "t = ...\n",
        "print(\"The threshold is first crossed at t = %.5g s\" % t)"
      ],
      "execution_count": 0,
      "outputs": []
    },
    {
      "metadata": {
        "id": "3AObjkDemxab",
        "colab_type": "text"
      },
      "cell_type": "markdown",
      "source": [
        "#### 2d) What is the membrane potential (not the slope) at that threshold?  Write as a print statement with three significant digits.  Don't forget units!"
      ]
    },
    {
      "metadata": {
        "id": "9WaqdWJUmxad",
        "colab_type": "code",
        "colab": {}
      },
      "cell_type": "code",
      "source": [
        "# You can access value in a column by their index, with .loc[]\n",
        "v_at_threshold = ...\n",
        "print(...)"
      ],
      "execution_count": 0,
      "outputs": []
    },
    {
      "metadata": {
        "id": "Mk0A51E-mxaf",
        "colab_type": "text"
      },
      "cell_type": "markdown",
      "source": [
        "<hr>"
      ]
    },
    {
      "metadata": {
        "id": "77y_fs2imxaf",
        "colab_type": "text"
      },
      "cell_type": "markdown",
      "source": [
        "## 3) "
      ]
    },
    {
      "metadata": {
        "id": "Gnf3LtCpmxah",
        "colab_type": "text"
      },
      "cell_type": "markdown",
      "source": [
        "#### You may have noticed (by eye) in the original membrane potential trace that the first spikes (action potentials) is taller, narrower, and occurs at a slightly lower threshold than the rest, and that the time between spikes increases.  This is called adaptation, and it is something that many neurons do in response to stimuli.  In fact, many neurons are classified as \"adapting\" vs. \"non-adapting\".  \n",
        "\n",
        "#### Many excitatory cells are adapting, while some notable inhibitory cells are non-adapting.  This means that the \"go\" neurons can always be overcome by the \"stop\" neurons, because the \"stop\" neurons are able to  \"fire\" spikes at very high rates without slowing down.  This is a negative feedback mechanism which keeps overall activity in line (e.g. preventing seizures).  "
      ]
    },
    {
      "metadata": {
        "id": "2LXa8LELmxai",
        "colab_type": "text"
      },
      "cell_type": "markdown",
      "source": [
        "#### 3a) Neurons are often classified by an \"adapation index\", sometimes defined as the ratio between the 3rd and the 1st \"inter-spike-interval\", or time between spikes.  Using the spike times extracted in question 1, compute the adaptation index for the membrane potential trace that we have been working with.  "
      ]
    },
    {
      "metadata": {
        "id": "mSJW9dkAmxak",
        "colab_type": "code",
        "colab": {}
      },
      "cell_type": "code",
      "source": [
        "# Recall that \"spike_indices\" is just the row numbers in the data frame where the peaks occurred.  \n",
        "# First we compute the spike times by using the dataframe's index, and grabbing only those indices that correspond to spike peaks.  \n",
        "# The .values part here let's us convert to something more intuitive (the values, separated from the dataframe).\n",
        "# Don't forget to put the units on at the end!\n",
        "spike_times = df.index[...].values * ...\n",
        "spike_times"
      ],
      "execution_count": 0,
      "outputs": []
    },
    {
      "metadata": {
        "id": "iU9IpwhDmxam",
        "colab_type": "code",
        "colab": {}
      },
      "cell_type": "code",
      "source": [
        "# The inter-spike intervals are just the intervals between spikes, i.e. the differences between adjacent spike times.  \n",
        "# Here was can use .diff() and not worry about dt because this is actually just a difference between adjacent numbers, not a derivative.  \n",
        "inter_spike_intervals = np.diff(...)\n",
        "inter_spike_intervals"
      ],
      "execution_count": 0,
      "outputs": []
    },
    {
      "metadata": {
        "id": "bI2i5RBOmxao",
        "colab_type": "code",
        "colab": {}
      },
      "cell_type": "code",
      "source": [
        "# Now compute the ratio of the 3rd of these to the 1st of these.\n",
        "# Don't forget that indices start from 0 in Python (and C, C++, etc.)\n",
        "# Print to three significant figures\n",
        "adapation_index = ...\n",
        "print(...)"
      ],
      "execution_count": 0,
      "outputs": []
    },
    {
      "metadata": {
        "id": "amEU_FgYmxar",
        "colab_type": "code",
        "colab": {}
      },
      "cell_type": "code",
      "source": [
        "# Write a statement that is `True` if this adaptation index is >1.5, and `False` if it is not.  \n",
        "# You could use such a statement as part of a program to sort neurons into \"adapting\" and \"non-adapting\" categories.\n",
        "..."
      ],
      "execution_count": 0,
      "outputs": []
    },
    {
      "metadata": {
        "id": "DkMBTcVVmxau",
        "colab_type": "text"
      },
      "cell_type": "markdown",
      "source": [
        "#### 3b) The spikes also get wider. This happens because, after the first spike, not all of the ion channels are ready to participate in the generation of the next spike (some have become inactivated).  This means that the upstroke of the action potential is a bit less vigorous (as is the downstroke, mediating by potassium channels). In milliseconds, how much wider is the second spike than the first?  "
      ]
    },
    {
      "metadata": {
        "id": "bVM_PqUsmxav",
        "colab_type": "code",
        "colab": {}
      },
      "cell_type": "code",
      "source": [
        "# First we have to figure out the width of one spike.  \n",
        "# The width is often defined as the time when the membrane potential crosses above the threshold (from question #2) \n",
        "# at spike onset until the time when it crosses below it at the end of the spike.  \n",
        "# Let's give ourselves some runway and extract a period of time +/- 50 samples of the first spike's peak.\n",
        "# Recall that spike_indices contains the locations of the samples for each spike's peak.  \n",
        "first_spike_index = ...\n",
        "\n",
        "# .loc[] is great for finding a location by name in the index.  But the names in our index are time values, and we have indices here.  \n",
        "# Use .iloc[] (the \"i\" stands for integer) to access by index.  \n",
        "first_spike_data = df[...].iloc[...]\n",
        "\n",
        "# But we don't just want that exact sample.  We want +/- 50 samples around the spike.  \n",
        "# You can get a \"slice\" of the dataframe using a range like .iloc[first:last], where first and last are some values of your choosing.  \n",
        "first_spike_data_range = ...\n",
        "\n",
        "# If all went well, this should like like a plot of the first spike\n",
        "first_spike_data_range.plot()\n",
        "plt.xlabel('Time (s)')\n",
        "plt.ylabel('Membrane\\nPotential (mV)');"
      ],
      "execution_count": 0,
      "outputs": []
    },
    {
      "metadata": {
        "id": "sF9ha1Lkmxax",
        "colab_type": "code",
        "colab": {}
      },
      "cell_type": "code",
      "source": [
        "# Now you need to extract only those values that are above the threshold determined in question #2d.  \n",
        "# Use a selector to extract only the values in first_spike_data_range that are above that threshold.  \n",
        "# Note that the threshold is not the value of the red line (which is a threshold for the first derivative), \n",
        "# But the actual threshold you got in question #2d.  \n",
        "is_first_spike_above_threshold = ... > ...\n",
        "first_spike_above_threshold = first_spike_data_range[...]\n",
        "first_spike_above_threshold.head()"
      ],
      "execution_count": 0,
      "outputs": []
    },
    {
      "metadata": {
        "id": "KnYvG7Q9mxa0",
        "colab_type": "code",
        "colab": {}
      },
      "cell_type": "code",
      "source": [
        "# Now you need to find the difference between the first and last time point in `first_spike_above_threshold`\n",
        "# This will be the width of the spike.  \n",
        "# You probably know by now how to access the first element of an array.  \n",
        "# You can access the last element of an array in several ways, but the coolest is with [-1].  \n",
        "# Why does the index -1 work?  Imagine that the array was wrapped onto a circle.  If 0 is the first element, than -1 is the last element!\n",
        "# Don't forget to use .index to access the times (not the membrane potential values), and don't forget to use units!\n",
        "first_spike_width = (... - ...) * ...\n",
        "\n",
        "# Report the width in ms to three significant figures.\n",
        "print(...)"
      ],
      "execution_count": 0,
      "outputs": []
    },
    {
      "metadata": {
        "id": "m-01bKxdmxa6",
        "colab_type": "code",
        "colab": {}
      },
      "cell_type": "code",
      "source": [
        "# Finally, you will need to repeat this for the second spike.  \n",
        "# Note that you will need to obtain the threshold again as you did in question #2, but this time for the second spike instead of the first.\n",
        "# Hint: at t = 1.032 seconds, the first spike is over and the second spike hasn't begun yet.  You can use this value to extract data for\n",
        "# only the second spike and beyond, and then repeat the strategy from question #2 to extract it's threshold.  \n",
        "df_no_first_spike = df[df.index > ...]\n",
        "is_slope_greater_than_threshold = ...\n",
        "places_where_slope_is_greater_than_threshold = ...\n",
        "t = ...\n",
        "v_at_threshold = ...\n",
        "second_spike_index = spike_indices[...]\n",
        "second_spike_data = ...\n",
        "second_spike_data_range = ...\n",
        "\n",
        "# Plotting is optional\n",
        "second_spike_data_range.plot()\n",
        "plt.xlabel('Time (s)')\n",
        "plt.ylabel('Membrane\\nPotential (mV)');\n",
        "\n",
        "is_second_spike_above_threshold = ...\n",
        "second_spike_above_threshold = ...\n",
        "second_spike_width = ... # Use this line to compute the value\n",
        "second_spike_width = ... # Use this line to rescale to milliseconds\n",
        "spike_width_difference = ... - ...\n",
        "print(\"The seconds spike is ... wider than the first\" % ...)"
      ],
      "execution_count": 0,
      "outputs": []
    }
  ]
}